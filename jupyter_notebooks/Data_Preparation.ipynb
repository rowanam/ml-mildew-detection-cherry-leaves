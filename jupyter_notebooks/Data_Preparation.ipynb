{
  "cells": [
    {
      "cell_type": "markdown",
      "metadata": {
        "id": "0aStgWSO0E0E"
      },
      "source": [
        "# Data Preparation"
      ]
    },
    {
      "cell_type": "markdown",
      "metadata": {
        "id": "1eLEkw5O0ECa"
      },
      "source": [
        "## Objectives\n",
        "\n",
        "* Ensure data only contains image files\n",
        "* Split train, validation and test sets\n",
        "\n",
        "## Inputs\n",
        "\n",
        "* Raw dataset - inputs/datasets/raw/cherry-leaves\n",
        "\n",
        "## Outputs\n",
        "\n",
        "* Split datasets - test, train and validation in inputs/datasets/cherry-leaves"
      ]
    },
    {
      "cell_type": "markdown",
      "metadata": {
        "id": "9uWZXH9LwoQg"
      },
      "source": [
        "---"
      ]
    },
    {
      "cell_type": "markdown",
      "metadata": {
        "id": "cqP-UeN-z3i2"
      },
      "source": [
        "## Change working directory"
      ]
    },
    {
      "cell_type": "markdown",
      "metadata": {
        "id": "aOGIGS-uz3i2"
      },
      "source": [
        "Change working directory to project root directory"
      ]
    },
    {
      "cell_type": "code",
      "execution_count": null,
      "metadata": {
        "id": "wZfF_j-Bz3i4",
        "outputId": "66943449-1436-4c3d-85c7-b85f9f78349b"
      },
      "outputs": [],
      "source": [
        "import os\n",
        "current_dir = os.getcwd()\n",
        "current_dir"
      ]
    },
    {
      "cell_type": "code",
      "execution_count": null,
      "metadata": {
        "id": "vz3S-_kjz3jA",
        "outputId": "00b79ae4-75d0-4a96-d193-ac9ef9847ea2"
      },
      "outputs": [],
      "source": [
        "os.chdir(os.path.dirname(current_dir))\n",
        "\n",
        "# confirm new directory\n",
        "current_dir = os.getcwd()\n",
        "current_dir"
      ]
    },
    {
      "cell_type": "markdown",
      "metadata": {},
      "source": [
        "---"
      ]
    },
    {
      "cell_type": "markdown",
      "metadata": {
        "id": "-mavJ8DibrcQ"
      },
      "source": [
        "## Data cleaning"
      ]
    },
    {
      "cell_type": "markdown",
      "metadata": {},
      "source": [
        "Check for and remove non-image files"
      ]
    },
    {
      "cell_type": "code",
      "execution_count": null,
      "metadata": {},
      "outputs": [],
      "source": [
        "# function taken from Code Institute walkthrough projects\n",
        "# e.g. https://github.com/Code-Institute-Solutions/WalkthroughProject01\n",
        "def remove_non_image_files(my_data_dir):\n",
        "    image_extension = (\".png\", \".jpg\", \".jpeg\")\n",
        "    folders = os.listdir(my_data_dir)\n",
        "    for folder in folders:\n",
        "        files = os.listdir(my_data_dir + \"/\" + folder)\n",
        "        i = []\n",
        "        j = []\n",
        "        for given_file in files:\n",
        "            if not given_file.lower().endswith(image_extension):\n",
        "                file_location = my_data_dir + \"/\" + folder + \"/\" + given_file\n",
        "                os.remove(file_location)  # remove non-image file\n",
        "                i.append(1)\n",
        "            else:\n",
        "                j.append(1)\n",
        "                pass\n",
        "        print(f\"Folder: {folder} - has image file\", len(j))\n",
        "        print(f\"Folder: {folder} - has non-image file\", len(i))"
      ]
    },
    {
      "cell_type": "code",
      "execution_count": null,
      "metadata": {},
      "outputs": [],
      "source": [
        "remove_non_image_files(\"inputs/datasets/raw/cherry-leaves\")"
      ]
    },
    {
      "cell_type": "markdown",
      "metadata": {},
      "source": [
        "---"
      ]
    },
    {
      "cell_type": "markdown",
      "metadata": {},
      "source": [
        "## Split train, validation and test sets"
      ]
    },
    {
      "cell_type": "markdown",
      "metadata": {},
      "source": [
        "Install `joblib` library to enable file/folder changes"
      ]
    },
    {
      "cell_type": "code",
      "execution_count": null,
      "metadata": {},
      "outputs": [],
      "source": [
        "%pip install joblib>=0.11"
      ]
    },
    {
      "cell_type": "code",
      "execution_count": null,
      "metadata": {},
      "outputs": [],
      "source": [
        "import os\n",
        "import shutil\n",
        "import random\n",
        "import joblib\n",
        "\n",
        "\n",
        "# function taken from Code Institute walkthrough projects\n",
        "# e.g. https://github.com/Code-Institute-Solutions/WalkthroughProject01\n",
        "def split_train_validation_test_images(\n",
        "    my_data_dir, train_set_ratio, validation_set_ratio, test_set_ratio\n",
        "):\n",
        "    \"\"\"Creates folders in my_data_dir for train, validation and test sets, shuffles images and moves them\n",
        "    into these folders in the passed rations, then deletes the original class label folders\n",
        "    \"\"\"\n",
        "\n",
        "    if train_set_ratio + validation_set_ratio + test_set_ratio != 1.0:\n",
        "        print(\n",
        "            \"train_set_ratio + validation_set_ratio + test_set_ratio should sum to 1.0\"\n",
        "        )\n",
        "        return\n",
        "\n",
        "    # gets classes labels\n",
        "    labels = os.listdir(my_data_dir)  # it should get only the folder names\n",
        "\n",
        "    # check if data already split into desired sets\n",
        "    if \"test\" in labels:\n",
        "        pass\n",
        "    else:\n",
        "        # create train, validation and test folders, each with sub-folders for each label class\n",
        "        for folder in [\"train\", \"validation\", \"test\"]:\n",
        "            for label in labels:\n",
        "                os.makedirs(name=my_data_dir + \"/\" + folder + \"/\" + label)\n",
        "\n",
        "        for label in labels:\n",
        "            # get all images from each class and shuffle them\n",
        "            files = os.listdir(my_data_dir + \"/\" + label)\n",
        "            random.shuffle(files)\n",
        "\n",
        "            train_set_files_qty = int(len(files) * train_set_ratio)\n",
        "            validation_set_files_qty = int(len(files) * validation_set_ratio)\n",
        "\n",
        "            count = 1\n",
        "            for file_name in files:\n",
        "                if count <= train_set_files_qty:\n",
        "                    # move a given file to the train set\n",
        "                    shutil.move(\n",
        "                        my_data_dir + \"/\" + label + \"/\" + file_name,\n",
        "                        my_data_dir + \"/train/\" + label + \"/\" + file_name,\n",
        "                    )\n",
        "\n",
        "                elif count <= (train_set_files_qty + validation_set_files_qty):\n",
        "                    # move a given file to the validation set\n",
        "                    shutil.move(\n",
        "                        my_data_dir + \"/\" + label + \"/\" + file_name,\n",
        "                        my_data_dir + \"/validation/\" + label + \"/\" + file_name,\n",
        "                    )\n",
        "\n",
        "                else:\n",
        "                    # move given file to test set\n",
        "                    shutil.move(\n",
        "                        my_data_dir + \"/\" + label + \"/\" + file_name,\n",
        "                        my_data_dir + \"/test/\" + label + \"/\" + file_name,\n",
        "                    )\n",
        "\n",
        "                count += 1\n",
        "\n",
        "            os.rmdir(my_data_dir + \"/\" + label)"
      ]
    },
    {
      "cell_type": "markdown",
      "metadata": {},
      "source": [
        "Remove `joblib` library file"
      ]
    },
    {
      "cell_type": "code",
      "execution_count": null,
      "metadata": {},
      "outputs": [],
      "source": [
        "! rm =0.11"
      ]
    },
    {
      "cell_type": "markdown",
      "metadata": {},
      "source": [
        "Split data into conventional ratios: 70% train, 10% validation, 20% test"
      ]
    },
    {
      "cell_type": "code",
      "execution_count": null,
      "metadata": {},
      "outputs": [],
      "source": [
        "split_train_validation_test_images(\n",
        "    my_data_dir=\"inputs/datasets/raw/cherry-leaves\",\n",
        "    train_set_ratio=0.7,\n",
        "    validation_set_ratio=0.1,\n",
        "    test_set_ratio=0.2,\n",
        ")"
      ]
    },
    {
      "cell_type": "markdown",
      "metadata": {},
      "source": [
        "Remove split dataset folders from `raw` diretory and delete `raw`"
      ]
    },
    {
      "cell_type": "code",
      "execution_count": null,
      "metadata": {},
      "outputs": [],
      "source": [
        "! mv inputs/datasets/raw/cherry-leaves inputs/datasets/cherry-leaves \\\n",
        "  && rmdir inputs/datasets/raw"
      ]
    },
    {
      "cell_type": "markdown",
      "metadata": {
        "id": "ZY3l0-AxO93d"
      },
      "source": [
        "---"
      ]
    },
    {
      "cell_type": "markdown",
      "metadata": {
        "id": "ltNetd085qHf"
      },
      "source": [
        "## Conlusions and next steps"
      ]
    },
    {
      "cell_type": "markdown",
      "metadata": {},
      "source": [
        "Data is cleaned and split into train, test and validation sets\n",
        "\n",
        "Next - image visualization study"
      ]
    },
    {
      "cell_type": "markdown",
      "metadata": {},
      "source": [
        "---"
      ]
    }
  ],
  "metadata": {
    "accelerator": "GPU",
    "colab": {
      "name": "Data Practitioner Jupyter Notebook.ipynb",
      "provenance": [],
      "toc_visible": true
    },
    "interpreter": {
      "hash": "8b8334dab9339717f727a1deaf837b322d7a41c20d15cc86be99a8e69ceec8ce"
    },
    "kernelspec": {
      "display_name": "Python 3.8.12 64-bit ('3.8.12': pyenv)",
      "name": "python3"
    },
    "language_info": {
      "codemirror_mode": {
        "name": "ipython",
        "version": 3
      },
      "file_extension": ".py",
      "mimetype": "text/x-python",
      "name": "python",
      "nbconvert_exporter": "python",
      "pygments_lexer": "ipython3",
      "version": "3.12.2"
    },
    "orig_nbformat": 2
  },
  "nbformat": 4,
  "nbformat_minor": 2
}
