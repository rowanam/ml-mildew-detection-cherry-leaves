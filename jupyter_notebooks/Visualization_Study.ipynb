{
  "cells": [
    {
      "cell_type": "markdown",
      "metadata": {
        "id": "0aStgWSO0E0E"
      },
      "source": [
        "# Visualization Study"
      ]
    },
    {
      "cell_type": "markdown",
      "metadata": {
        "id": "1eLEkw5O0ECa"
      },
      "source": [
        "## Objectives\n",
        "\n",
        "* Answer business requirement 1:\n",
        "    - The client wants to be able to visually differentiate between cherry leaves with and without powdery mildew\n",
        "\n",
        "## Inputs\n",
        "\n",
        "* Train, validation and test datasets from inputs/datasets/cherry-leaves\n",
        "\n",
        "## Outputs\n",
        "\n",
        "* The code to generate an image montage in the dashboard\n",
        "* Mean and variability images for each label\n",
        "* Plot with contrast between mean images"
      ]
    },
    {
      "cell_type": "markdown",
      "metadata": {},
      "source": [
        "---"
      ]
    },
    {
      "cell_type": "markdown",
      "metadata": {},
      "source": [
        "## Install libraries"
      ]
    },
    {
      "cell_type": "code",
      "execution_count": null,
      "metadata": {},
      "outputs": [],
      "source": [
        "%pip install -r /workspace/ml-mildew-detection-cherry-leaves/requirements.txt"
      ]
    },
    {
      "cell_type": "markdown",
      "metadata": {
        "id": "9uWZXH9LwoQg"
      },
      "source": [
        "---"
      ]
    },
    {
      "cell_type": "markdown",
      "metadata": {
        "id": "cqP-UeN-z3i2"
      },
      "source": [
        "## Change working directory"
      ]
    },
    {
      "cell_type": "markdown",
      "metadata": {
        "id": "aOGIGS-uz3i2"
      },
      "source": [
        "Change working directory to project root directory"
      ]
    },
    {
      "cell_type": "code",
      "execution_count": null,
      "metadata": {
        "id": "wZfF_j-Bz3i4",
        "outputId": "66943449-1436-4c3d-85c7-b85f9f78349b"
      },
      "outputs": [],
      "source": [
        "import os\n",
        "current_dir = os.getcwd()\n",
        "current_dir"
      ]
    },
    {
      "cell_type": "code",
      "execution_count": null,
      "metadata": {
        "id": "vz3S-_kjz3jA",
        "outputId": "00b79ae4-75d0-4a96-d193-ac9ef9847ea2"
      },
      "outputs": [],
      "source": [
        "os.chdir(os.path.dirname(current_dir))\n",
        "\n",
        "# confirm new directory\n",
        "current_dir = os.getcwd()\n",
        "current_dir"
      ]
    },
    {
      "cell_type": "markdown",
      "metadata": {},
      "source": [
        "---"
      ]
    },
    {
      "cell_type": "markdown",
      "metadata": {
        "id": "-mavJ8DibrcQ"
      },
      "source": [
        "## Set up directories and variables"
      ]
    },
    {
      "cell_type": "markdown",
      "metadata": {},
      "source": [
        "### Store file paths"
      ]
    },
    {
      "cell_type": "markdown",
      "metadata": {},
      "source": [
        "Input directories"
      ]
    },
    {
      "cell_type": "code",
      "execution_count": null,
      "metadata": {},
      "outputs": [],
      "source": [
        "data_dir = \"inputs/datasets/cherry-leaves\"\n",
        "\n",
        "train_dir = data_dir + \"/train\"\n",
        "val_dir = data_dir + \"/val\"\n",
        "test_dir = data_dir + \"/test\""
      ]
    },
    {
      "cell_type": "markdown",
      "metadata": {},
      "source": [
        "### Create outputs directory"
      ]
    },
    {
      "cell_type": "code",
      "execution_count": null,
      "metadata": {},
      "outputs": [],
      "source": [
        "# Set version here\n",
        "version = \"v1\"\n",
        "\n",
        "file_path = f\"outputs/{version}\"\n",
        "\n",
        "if \"outputs\" in os.listdir(current_dir) and version in os.listdir(current_dir + \"/outputs\"):\n",
        "    print(\"This version tag has already been used. Create a new version.\")\n",
        "    pass\n",
        "else:\n",
        "    os.makedirs(name=file_path)"
      ]
    },
    {
      "cell_type": "markdown",
      "metadata": {},
      "source": [
        "### Store label names"
      ]
    },
    {
      "cell_type": "code",
      "execution_count": null,
      "metadata": {},
      "outputs": [],
      "source": [
        "labels = os.listdir(train_dir)\n",
        "print(\"The image labels are:\", labels)"
      ]
    },
    {
      "cell_type": "markdown",
      "metadata": {
        "id": "ZY3l0-AxO93d"
      },
      "source": [
        "---"
      ]
    },
    {
      "cell_type": "markdown",
      "metadata": {},
      "source": [
        "## Image montages"
      ]
    },
    {
      "cell_type": "code",
      "execution_count": null,
      "metadata": {},
      "outputs": [],
      "source": [
        "import itertools\n",
        "import random\n",
        "import matplotlib.pyplot as plt\n",
        "from matplotlib.image import imread\n",
        "import seaborn as sns\n",
        "\n",
        "sns.set_style(\"white\")\n",
        "\n",
        "\n",
        "# function taken from Code Institute walkthrough projects\n",
        "# e.g. https://github.com/Code-Institute-Solutions/WalkthroughProject01\n",
        "def image_montage(dir_path, label_to_display, nrows, ncols, figsize=(15, 10)):\n",
        "    \"\"\"\n",
        "    if the label exists in the directory\n",
        "    check if your desired montage space is greater than the label subset size\n",
        "    create a list of axes indices based on nrows and ncols\n",
        "    create a Figure and display images\n",
        "    in this loop, load and plot the given image\n",
        "    \"\"\"\n",
        "\n",
        "    labels = os.listdir(dir_path)\n",
        "\n",
        "    # subset the class you are interested to display\n",
        "    if label_to_display in labels:\n",
        "\n",
        "        # checks if your desired montage space is greater than the label subset size\n",
        "        images_list = os.listdir(dir_path + \"/\" + label_to_display)\n",
        "        if nrows * ncols < len(images_list):\n",
        "            img_idx = random.sample(images_list, nrows * ncols)\n",
        "        else:\n",
        "            print(\n",
        "                f\"Decrease nrows or ncols to create your montage. \\n\"\n",
        "                f\"There are {len(images_list)} in your subset. \"\n",
        "                f\"You requested a montage with {nrows * ncols} spaces\"\n",
        "            )\n",
        "            return\n",
        "\n",
        "        # create a list of axes indices based on nrows and ncols\n",
        "        list_rows = range(0, nrows)\n",
        "        list_cols = range(0, ncols)\n",
        "        plot_idx = list(itertools.product(list_rows, list_cols))\n",
        "\n",
        "        # create a Figure and display images\n",
        "        fig, axes = plt.subplots(nrows=nrows, ncols=ncols, figsize=figsize)\n",
        "        for x in range(0, nrows * ncols):\n",
        "            img = imread(dir_path + \"/\" + label_to_display + \"/\" + img_idx[x])\n",
        "            img_shape = img.shape\n",
        "            axes[plot_idx[x][0], plot_idx[x][1]].imshow(img)\n",
        "            axes[plot_idx[x][0], plot_idx[x][1]].set_title(\n",
        "                f\"Width {img_shape[1]}px x Height {img_shape[0]}px\"\n",
        "            )\n",
        "            axes[plot_idx[x][0], plot_idx[x][1]].set_xticks([])\n",
        "            axes[plot_idx[x][0], plot_idx[x][1]].set_yticks([])\n",
        "        plt.tight_layout()\n",
        "        plt.show()\n",
        "\n",
        "    else:\n",
        "        print(\"The label you selected doesn't exist.\")\n",
        "        print(f\"The existing options are: {labels}\")"
      ]
    },
    {
      "cell_type": "markdown",
      "metadata": {},
      "source": [
        "Create a montage for each label"
      ]
    },
    {
      "cell_type": "code",
      "execution_count": null,
      "metadata": {},
      "outputs": [],
      "source": [
        "for label in labels:\n",
        "    print(label)\n",
        "    image_montage(\n",
        "        dir_path=train_dir, label_to_display=label, nrows=3, ncols=3, figsize=(10, 15)\n",
        "    )\n",
        "    print(\"\\n\")"
      ]
    },
    {
      "cell_type": "markdown",
      "metadata": {},
      "source": [
        "Note: visually, it appears as if there are qualitative differences between the two classes beyond the precense or absence of powdery mildew\n",
        "\n",
        "* After viewing a few random samples, all powdery mildew leaf images have the leaf pointing toward the top, whereas healthy leaves point either up or down\n",
        "* It appears as if the backdrop of the two groups of images have a slightly different color and/or texture\n",
        "\n",
        "This could lead to potentially limited model performance, if it picks up patterns that are not inherent to the presencse of the mildew. Investigate this further in the following mean and variability plots."
      ]
    },
    {
      "cell_type": "markdown",
      "metadata": {},
      "source": [
        "---"
      ]
    },
    {
      "cell_type": "markdown",
      "metadata": {},
      "source": [
        "## Image averages and variability"
      ]
    },
    {
      "cell_type": "markdown",
      "metadata": {},
      "source": [
        "### Load a subset of images"
      ]
    },
    {
      "cell_type": "markdown",
      "metadata": {},
      "source": [
        "Only a subset of images will be used for the average and variability graphs, to save time and since a small sample is sufficient to provide a sense of the image distributions"
      ]
    },
    {
      "cell_type": "markdown",
      "metadata": {},
      "source": [
        "Create a function to load images as Numpy arrays"
      ]
    },
    {
      "cell_type": "code",
      "execution_count": null,
      "metadata": {},
      "outputs": [],
      "source": [
        "import numpy as np\n",
        "from tensorflow.keras.preprocessing import image\n",
        "\n",
        "\n",
        "# function adapted from Code Institute walkthrough projects\n",
        "# e.g. https://github.com/Code-Institute-Solutions/WalkthroughProject01\n",
        "def load_images_as_arrays(my_data_dir, n_images_per_label=20):\n",
        "    \"\"\"Load passed number of images for each label as np arrays and normalize the color values\"\"\"\n",
        "\n",
        "    X, y = np.array([], dtype=\"int\"), np.array([], dtype=\"object\")\n",
        "    labels = os.listdir(my_data_dir)\n",
        "\n",
        "    for label in labels:\n",
        "        counter = 0\n",
        "        for image_filename in os.listdir(my_data_dir + \"/\" + label):\n",
        "            if counter < n_images_per_label:\n",
        "\n",
        "                img = image.load_img(\n",
        "                    my_data_dir + \"/\" + label + \"/\" + image_filename,\n",
        "                )\n",
        "\n",
        "                # if pixel values use 0 to 255 scale, normalize to 0 to 1 scale\n",
        "                if image.img_to_array(img).max() > 1:\n",
        "                    img_processed = image.img_to_array(img) / 255\n",
        "                else:\n",
        "                    img_processed = image.img_to_array(img)\n",
        "\n",
        "                X = np.append(X, img_processed).reshape(\n",
        "                    -1, img_processed.shape[0], img_processed.shape[1], img_processed.shape[2]\n",
        "                )\n",
        "                y = np.append(y, label)\n",
        "                counter += 1\n",
        "\n",
        "    return X, y"
      ]
    },
    {
      "cell_type": "markdown",
      "metadata": {},
      "source": [
        "Load 100 images for each label as arrays"
      ]
    },
    {
      "cell_type": "code",
      "execution_count": null,
      "metadata": {},
      "outputs": [],
      "source": [
        "images_arr, labels_arr = load_image_as_array(\n",
        "    my_data_dir=train_dir, n_images_per_label=100\n",
        ")"
      ]
    },
    {
      "cell_type": "markdown",
      "metadata": {},
      "source": [
        "### Plot image means and variability"
      ]
    },
    {
      "cell_type": "markdown",
      "metadata": {},
      "source": [
        "Create a function to plot the mean and standard deviation of each set of images"
      ]
    },
    {
      "cell_type": "code",
      "execution_count": null,
      "metadata": {},
      "outputs": [],
      "source": [
        "# function adapted from Code Institute walkthrough projects\n",
        "# e.g. https://github.com/Code-Institute-Solutions/WalkthroughProject01\n",
        "def plot_mean_variability_per_labels(X, y, figsize=(12, 5), save_image=False):\n",
        "    \"\"\"\n",
        "    The pseudo-code for the function is:\n",
        "    * Loop over all labels\n",
        "    * Subset an array for a given label\n",
        "    * Calculate the mean and standard deviation\n",
        "    * Create a figure displaying the mean and variability of images\n",
        "    * Save the image\n",
        "    \"\"\"\n",
        "\n",
        "    for label_to_display in np.unique(y):\n",
        "        sns.set_style(\"white\")\n",
        "\n",
        "        y = y.reshape(-1, 1, 1)\n",
        "        boolean_mask = np.any(y == label_to_display, axis=1).reshape(-1)\n",
        "        arr = X[boolean_mask]\n",
        "\n",
        "        avg_img = np.mean(arr, axis=0)\n",
        "        std_img = np.std(arr, axis=0)\n",
        "        print(f\"==== Label {label_to_display} ====\")\n",
        "        \n",
        "        fig, axes = plt.subplots(nrows=1, ncols=2, figsize=figsize)\n",
        "        axes[0].set_title(f'Average image for label \"{label_to_display}\"')\n",
        "        axes[0].imshow(avg_img, cmap=\"gray\")\n",
        "        axes[1].set_title(f'Variability image for label \"{label_to_display}\"')\n",
        "        axes[1].imshow(std_img, cmap=\"gray\")\n",
        "\n",
        "        if save_image:\n",
        "            plt.savefig(\n",
        "                f\"{file_path}/avg_var_{label_to_display}.png\",\n",
        "                bbox_inches=\"tight\",\n",
        "                dpi=150,\n",
        "            )\n",
        "        else:\n",
        "            plt.tight_layout()\n",
        "            plt.show()\n",
        "            print(\"\\n\")"
      ]
    },
    {
      "cell_type": "markdown",
      "metadata": {},
      "source": [
        "Plot the means and standard deviations of the image sets for the 200 images loaded above"
      ]
    },
    {
      "cell_type": "code",
      "execution_count": null,
      "metadata": {},
      "outputs": [],
      "source": [
        "plot_mean_variability_per_labels(X=images_arr, y=labels_arr, figsize=(12, 5))"
      ]
    },
    {
      "cell_type": "markdown",
      "metadata": {},
      "source": [
        "After checking that the images look good, save to the `outputs` folder"
      ]
    },
    {
      "cell_type": "code",
      "execution_count": null,
      "metadata": {},
      "outputs": [],
      "source": [
        "plot_mean_variability_per_labels(X=images_arr, y=labels_arr, figsize=(12, 5), save_image=True)"
      ]
    },
    {
      "cell_type": "markdown",
      "metadata": {},
      "source": [
        "### Plot difference between average images"
      ]
    },
    {
      "cell_type": "code",
      "execution_count": null,
      "metadata": {},
      "outputs": [],
      "source": [
        "def subset_image_label(X, y, label_to_display):\n",
        "    y = y.reshape(-1, 1, 1)\n",
        "    boolean_mask = np.any(y == label_to_display, axis=1).reshape(-1)\n",
        "    df = X[boolean_mask]\n",
        "    return df\n",
        "\n",
        "\n",
        "# function taken from Code Institute walkthrough projects\n",
        "# e.g. https://github.com/Code-Institute-Solutions/WalkthroughProject01\n",
        "def diff_bet_avg_image_labels_data_as_array(\n",
        "    X, y, label_1, label_2, figsize=(20, 5), save_image=False\n",
        "):\n",
        "    \"\"\"\n",
        "    Checks if the labels exist in the set of unique labels\n",
        "    Calculates the mean and difference for label1 and label2\n",
        "    Plots a chart and saves it if save_image=True\n",
        "    \"\"\"\n",
        "    sns.set_style(\"white\")\n",
        "\n",
        "    if (label_1 not in np.unique(y)) or (label_2 not in np.unique(y)):\n",
        "        print(f\"Either label {label} or label {label_2}, are not in {np.unique(y)} \")\n",
        "        return\n",
        "\n",
        "    # calculate mean from label1\n",
        "    images_label = subset_image_label(X, y, label_1)\n",
        "    label1_avg = np.mean(images_label, axis=0)\n",
        "\n",
        "    # calculate mean from label2\n",
        "    images_label = subset_image_label(X, y, label_2)\n",
        "    label2_avg = np.mean(images_label, axis=0)\n",
        "\n",
        "    # calculate difference and plot difference, avg label1 and avg label2\n",
        "    difference_mean = label1_avg - label2_avg\n",
        "    fig, axes = plt.subplots(nrows=1, ncols=3, figsize=figsize)\n",
        "    axes[0].imshow(label1_avg, cmap=\"gray\")\n",
        "    axes[0].set_title(f\"Average {label_1}\")\n",
        "    axes[1].imshow(label2_avg, cmap=\"gray\")\n",
        "    axes[1].set_title(f\"Average {label_2}\")\n",
        "    axes[2].imshow(difference_mean, cmap=\"gray\")\n",
        "    axes[2].set_title(f\"Difference image: Avg {label_1} & {label_2}\")\n",
        "    if save_image:\n",
        "        plt.savefig(f\"{file_path}/avg_diff.png\", bbox_inches=\"tight\", dpi=150)\n",
        "    else:\n",
        "        plt.tight_layout()\n",
        "        plt.show()"
      ]
    },
    {
      "cell_type": "markdown",
      "metadata": {},
      "source": [
        "Plot the difference between `powdery_mildew` average and `healthy` average"
      ]
    },
    {
      "cell_type": "code",
      "execution_count": null,
      "metadata": {},
      "outputs": [],
      "source": [
        "difference = diff_bet_avg_image_labels_data_as_array(\n",
        "    X=images_arr,\n",
        "    y=labels_arr,\n",
        "    label_1=\"powdery_mildew\",\n",
        "    label_2=\"healthy\",\n",
        "    figsize=(12, 10),\n",
        ")"
      ]
    },
    {
      "cell_type": "markdown",
      "metadata": {},
      "source": [
        "Plot the difference in the opposite direction (`healthy` - `powdery_mildew`) "
      ]
    },
    {
      "cell_type": "code",
      "execution_count": null,
      "metadata": {},
      "outputs": [],
      "source": [
        "difference = diff_bet_avg_image_labels_data_as_array(\n",
        "    X=images_arr,\n",
        "    y=labels_arr,\n",
        "    label_1=\"healthy\",\n",
        "    label_2=\"powdery_mildew\",\n",
        "    figsize=(12, 10),\n",
        ")"
      ]
    },
    {
      "cell_type": "markdown",
      "metadata": {},
      "source": [
        "Nothing can be seen in the first difference plot - this is likely because because the `healthy` average image appears lighter overall, which means substracting it from the `powdery_mildew` average results in mostly negative values. These can't be plotted and are thus clipped to 0, meaning the plot only displays black.\n",
        "\n",
        "Subtracting the other ways around also does not reveal much information about the average trends, however some difference can be seen in the outlines of the leaves. Therefore this version of the plot will be saved."
      ]
    },
    {
      "cell_type": "code",
      "execution_count": null,
      "metadata": {},
      "outputs": [],
      "source": [
        "difference = diff_bet_avg_image_labels_data_as_array(\n",
        "    X=images_arr,\n",
        "    y=labels_arr,\n",
        "    label_1=\"healthy\",\n",
        "    label_2=\"powdery_mildew\",\n",
        "    figsize=(12, 10),\n",
        "    save_image=True\n",
        ")"
      ]
    },
    {
      "cell_type": "markdown",
      "metadata": {},
      "source": [
        "---"
      ]
    },
    {
      "cell_type": "markdown",
      "metadata": {
        "id": "ltNetd085qHf"
      },
      "source": [
        "## Conlusions and next steps"
      ]
    },
    {
      "cell_type": "markdown",
      "metadata": {},
      "source": [
        "Business requirement 1 has been answered. Plots of average and variability for each target label have been produced along with a plot displaying the difference between the two average images. The code to generate a random image montage for each label has also been written; this will be executed in the Streamlit dashboard.\n",
        "\n",
        "Next steps - define, train and evaluate a model to answer business requirement 2"
      ]
    },
    {
      "cell_type": "markdown",
      "metadata": {},
      "source": [
        "---"
      ]
    }
  ],
  "metadata": {
    "accelerator": "GPU",
    "colab": {
      "name": "Data Practitioner Jupyter Notebook.ipynb",
      "provenance": [],
      "toc_visible": true
    },
    "interpreter": {
      "hash": "8b8334dab9339717f727a1deaf837b322d7a41c20d15cc86be99a8e69ceec8ce"
    },
    "kernelspec": {
      "display_name": "Python 3.8.12 64-bit ('3.8.12': pyenv)",
      "name": "python3"
    },
    "language_info": {
      "codemirror_mode": {
        "name": "ipython",
        "version": 3
      },
      "file_extension": ".py",
      "mimetype": "text/x-python",
      "name": "python",
      "nbconvert_exporter": "python",
      "pygments_lexer": "ipython3",
      "version": "3.8.12"
    },
    "orig_nbformat": 2
  },
  "nbformat": 4,
  "nbformat_minor": 2
}
