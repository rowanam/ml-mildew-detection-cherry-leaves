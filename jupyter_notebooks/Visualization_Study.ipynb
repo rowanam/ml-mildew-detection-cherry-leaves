{
  "cells": [
    {
      "cell_type": "markdown",
      "metadata": {
        "id": "0aStgWSO0E0E"
      },
      "source": [
        "# Visualization Study"
      ]
    },
    {
      "cell_type": "markdown",
      "metadata": {
        "id": "1eLEkw5O0ECa"
      },
      "source": [
        "## Objectives\n",
        "\n",
        "* Answer business requirement 1:\n",
        "    - The client wants to be able to visually differentiate between cherry leaves with and without powdery mildew\n",
        "\n",
        "## Inputs\n",
        "\n",
        "* Train, validation and test datasets from inputs/datasets/cherry-leaves\n",
        "\n",
        "## Outputs\n",
        "\n",
        "* The code to generate an image montage in the dashboard\n",
        "* Mean and variability images for each label\n",
        "* Plot with contrast between mean images\n",
        "* Pixel values variability analysis for whole images:\n",
        "    - RGB variability within each image per label\n",
        "    - Average RGB variabilities per label\n",
        "* Pixel values variability analysis for centers of images:\n",
        "    - RGB variability within each image per label\n",
        "    - Average RGB variabilities per label"
      ]
    },
    {
      "cell_type": "markdown",
      "metadata": {},
      "source": [
        "---"
      ]
    },
    {
      "cell_type": "markdown",
      "metadata": {},
      "source": [
        "## Install libraries"
      ]
    },
    {
      "cell_type": "code",
      "execution_count": null,
      "metadata": {},
      "outputs": [],
      "source": [
        "%pip install -r /workspace/ml-mildew-detection-cherry-leaves/requirements.txt"
      ]
    },
    {
      "cell_type": "markdown",
      "metadata": {
        "id": "9uWZXH9LwoQg"
      },
      "source": [
        "---"
      ]
    },
    {
      "cell_type": "markdown",
      "metadata": {
        "id": "cqP-UeN-z3i2"
      },
      "source": [
        "## Change working directory"
      ]
    },
    {
      "cell_type": "markdown",
      "metadata": {
        "id": "aOGIGS-uz3i2"
      },
      "source": [
        "Change working directory to project root directory"
      ]
    },
    {
      "cell_type": "code",
      "execution_count": null,
      "metadata": {
        "id": "wZfF_j-Bz3i4",
        "outputId": "66943449-1436-4c3d-85c7-b85f9f78349b"
      },
      "outputs": [],
      "source": [
        "import os\n",
        "current_dir = os.getcwd()\n",
        "current_dir"
      ]
    },
    {
      "cell_type": "code",
      "execution_count": null,
      "metadata": {
        "id": "vz3S-_kjz3jA",
        "outputId": "00b79ae4-75d0-4a96-d193-ac9ef9847ea2"
      },
      "outputs": [],
      "source": [
        "os.chdir(os.path.dirname(current_dir))\n",
        "\n",
        "# confirm new directory\n",
        "current_dir = os.getcwd()\n",
        "current_dir"
      ]
    },
    {
      "cell_type": "markdown",
      "metadata": {},
      "source": [
        "---"
      ]
    },
    {
      "cell_type": "markdown",
      "metadata": {
        "id": "-mavJ8DibrcQ"
      },
      "source": [
        "## Set up directories and variables"
      ]
    },
    {
      "cell_type": "markdown",
      "metadata": {},
      "source": [
        "### Store file paths"
      ]
    },
    {
      "cell_type": "markdown",
      "metadata": {},
      "source": [
        "Input directories"
      ]
    },
    {
      "cell_type": "code",
      "execution_count": null,
      "metadata": {},
      "outputs": [],
      "source": [
        "data_dir = \"inputs/datasets/cherry-leaves\"\n",
        "\n",
        "train_dir = data_dir + \"/train\"\n",
        "val_dir = data_dir + \"/val\"\n",
        "test_dir = data_dir + \"/test\""
      ]
    },
    {
      "cell_type": "markdown",
      "metadata": {},
      "source": [
        "### Create outputs directory"
      ]
    },
    {
      "cell_type": "code",
      "execution_count": null,
      "metadata": {},
      "outputs": [],
      "source": [
        "# Set version here\n",
        "version = \"v1\"\n",
        "\n",
        "file_path = f\"outputs/{version}\"\n",
        "\n",
        "if \"outputs\" in os.listdir(current_dir) and version in os.listdir(current_dir + \"/outputs\"):\n",
        "    print(\"This version tag has already been used. Create a new version.\")\n",
        "    pass\n",
        "else:\n",
        "    os.makedirs(name=file_path)"
      ]
    },
    {
      "cell_type": "markdown",
      "metadata": {},
      "source": [
        "### Store label names"
      ]
    },
    {
      "cell_type": "code",
      "execution_count": null,
      "metadata": {},
      "outputs": [],
      "source": [
        "labels = os.listdir(train_dir)\n",
        "print(\"The image labels are:\", labels)"
      ]
    },
    {
      "cell_type": "markdown",
      "metadata": {
        "id": "ZY3l0-AxO93d"
      },
      "source": [
        "---"
      ]
    },
    {
      "cell_type": "markdown",
      "metadata": {},
      "source": [
        "## Import libraries"
      ]
    },
    {
      "cell_type": "code",
      "execution_count": null,
      "metadata": {},
      "outputs": [],
      "source": [
        "import itertools\n",
        "import random\n",
        "import matplotlib.pyplot as plt\n",
        "from matplotlib.image import imread\n",
        "import seaborn as sns\n",
        "sns.set_style(\"white\")"
      ]
    },
    {
      "cell_type": "markdown",
      "metadata": {},
      "source": [
        "---"
      ]
    },
    {
      "cell_type": "markdown",
      "metadata": {},
      "source": [
        "## Image montages"
      ]
    },
    {
      "cell_type": "code",
      "execution_count": null,
      "metadata": {},
      "outputs": [],
      "source": [
        "# function taken from Code Institute walkthrough projects\n",
        "# e.g. https://github.com/Code-Institute-Solutions/WalkthroughProject01\n",
        "def image_montage(dir_path, label_to_display, nrows, ncols, figsize=(15, 10)):\n",
        "    \"\"\"\n",
        "    if the label exists in the directory\n",
        "    check if your desired montage space is greater than the label subset size\n",
        "    create a list of axes indices based on nrows and ncols\n",
        "    create a Figure and display images\n",
        "    in this loop, load and plot the given image\n",
        "    \"\"\"\n",
        "\n",
        "    labels = os.listdir(dir_path)\n",
        "\n",
        "    # subset the class you are interested to display\n",
        "    if label_to_display in labels:\n",
        "\n",
        "        # checks if your desired montage space is greater than the label subset size\n",
        "        images_list = os.listdir(dir_path + \"/\" + label_to_display)\n",
        "        if nrows * ncols < len(images_list):\n",
        "            img_idx = random.sample(images_list, nrows * ncols)\n",
        "        else:\n",
        "            print(\n",
        "                f\"Decrease nrows or ncols to create your montage. \\n\"\n",
        "                f\"There are {len(images_list)} in your subset. \"\n",
        "                f\"You requested a montage with {nrows * ncols} spaces\"\n",
        "            )\n",
        "            return\n",
        "\n",
        "        # create a list of axes indices based on nrows and ncols\n",
        "        list_rows = range(0, nrows)\n",
        "        list_cols = range(0, ncols)\n",
        "        plot_idx = list(itertools.product(list_rows, list_cols))\n",
        "\n",
        "        # create a Figure and display images\n",
        "        fig, axes = plt.subplots(nrows=nrows, ncols=ncols, figsize=figsize)\n",
        "        for x in range(0, nrows * ncols):\n",
        "            img = imread(dir_path + \"/\" + label_to_display + \"/\" + img_idx[x])\n",
        "            img_shape = img.shape\n",
        "            axes[plot_idx[x][0], plot_idx[x][1]].imshow(img)\n",
        "            axes[plot_idx[x][0], plot_idx[x][1]].set_title(\n",
        "                f\"Width {img_shape[1]}px x Height {img_shape[0]}px\"\n",
        "            )\n",
        "            axes[plot_idx[x][0], plot_idx[x][1]].set_xticks([])\n",
        "            axes[plot_idx[x][0], plot_idx[x][1]].set_yticks([])\n",
        "        plt.tight_layout()\n",
        "        plt.show()\n",
        "\n",
        "    else:\n",
        "        print(\"The label you selected doesn't exist.\")\n",
        "        print(f\"The existing options are: {labels}\")"
      ]
    },
    {
      "cell_type": "markdown",
      "metadata": {},
      "source": [
        "Create a montage for each label"
      ]
    },
    {
      "cell_type": "code",
      "execution_count": null,
      "metadata": {},
      "outputs": [],
      "source": [
        "for label in labels:\n",
        "    print(label)\n",
        "    image_montage(\n",
        "        dir_path=train_dir, label_to_display=label, nrows=3, ncols=3, figsize=(10, 13)\n",
        "    )\n",
        "    print(\"\\n\")"
      ]
    },
    {
      "cell_type": "markdown",
      "metadata": {},
      "source": [
        "Note: visually, it appears as if there are qualitative differences between the two classes beyond the precense or absence of powdery mildew\n",
        "\n",
        "* After viewing a few random samples, all powdery mildew leaf images have the leaf pointing toward the top, whereas healthy leaves point either up or down\n",
        "* It appears as if the backdrop of the two groups of images have a slightly different color and/or texture\n",
        "\n",
        "This could lead to potentially limited model performance, if it picks up patterns that are not inherent to the presencse of the mildew. Investigate this further in the following mean and variability plots."
      ]
    },
    {
      "cell_type": "markdown",
      "metadata": {},
      "source": [
        "---"
      ]
    },
    {
      "cell_type": "markdown",
      "metadata": {},
      "source": [
        "## Load a subset of images"
      ]
    },
    {
      "cell_type": "markdown",
      "metadata": {},
      "source": [
        "Only a subset of images will be used for the image studies, to save time and since a small sample is sufficient to provide a sense of the image distributions"
      ]
    },
    {
      "cell_type": "markdown",
      "metadata": {},
      "source": [
        "Create a function to load images as Numpy arrays"
      ]
    },
    {
      "cell_type": "code",
      "execution_count": null,
      "metadata": {},
      "outputs": [],
      "source": [
        "import numpy as np\n",
        "from tensorflow.keras.preprocessing import image\n",
        "\n",
        "\n",
        "# function adapted from Code Institute walkthrough projects\n",
        "# e.g. https://github.com/Code-Institute-Solutions/WalkthroughProject01\n",
        "def load_images_as_arrays(data_dir, n_images_per_label=20):\n",
        "    \"\"\"Load passed number of images for each label as np arrays and normalize the color values\"\"\"\n",
        "\n",
        "    X, y = np.array([], dtype=\"int\"), np.array([], dtype=\"object\")\n",
        "    labels = os.listdir(data_dir)\n",
        "\n",
        "    for label in labels:\n",
        "        counter = 0\n",
        "        for image_filename in os.listdir(data_dir + \"/\" + label):\n",
        "            if counter < n_images_per_label:\n",
        "\n",
        "                img = image.load_img(\n",
        "                    data_dir + \"/\" + label + \"/\" + image_filename,\n",
        "                )\n",
        "\n",
        "                # if pixel values use 0 to 255 scale, normalize to 0 to 1 scale\n",
        "                if image.img_to_array(img).max() > 1:\n",
        "                    img_processed = image.img_to_array(img) / 255\n",
        "                else:\n",
        "                    img_processed = image.img_to_array(img)\n",
        "\n",
        "                X = np.append(X, img_processed).reshape(\n",
        "                    -1, img_processed.shape[0], img_processed.shape[1], img_processed.shape[2]\n",
        "                )\n",
        "                y = np.append(y, label)\n",
        "                counter += 1\n",
        "\n",
        "    return X, y"
      ]
    },
    {
      "cell_type": "markdown",
      "metadata": {},
      "source": [
        "Load 100 images for each label as arrays"
      ]
    },
    {
      "cell_type": "code",
      "execution_count": null,
      "metadata": {},
      "outputs": [],
      "source": [
        "images_arr, labels_arr = load_images_as_arrays(\n",
        "    data_dir=train_dir, n_images_per_label=100\n",
        ")"
      ]
    },
    {
      "cell_type": "markdown",
      "metadata": {},
      "source": [
        "---"
      ]
    },
    {
      "cell_type": "markdown",
      "metadata": {},
      "source": [
        "## Create helper functions"
      ]
    },
    {
      "cell_type": "markdown",
      "metadata": {},
      "source": [
        "Helper functions used throughout following analyses"
      ]
    },
    {
      "cell_type": "code",
      "execution_count": null,
      "metadata": {},
      "outputs": [],
      "source": [
        "def subset_label(label_to_display, X, y):\n",
        "    \"\"\"Return subset of X where y is label_to_display\"\"\"\n",
        "    y = y.reshape(-1, 1, 1)\n",
        "    boolean_mask = np.any(y == label_to_display, axis=1).reshape(-1)\n",
        "    return X[boolean_mask]"
      ]
    },
    {
      "cell_type": "markdown",
      "metadata": {},
      "source": [
        "---"
      ]
    },
    {
      "cell_type": "markdown",
      "metadata": {},
      "source": [
        "## Image averages and variability"
      ]
    },
    {
      "cell_type": "markdown",
      "metadata": {},
      "source": [
        "### Plot image averages and variability"
      ]
    },
    {
      "cell_type": "markdown",
      "metadata": {},
      "source": [
        "Create a function to plot the mean and standard deviation of each set of images"
      ]
    },
    {
      "cell_type": "code",
      "execution_count": null,
      "metadata": {},
      "outputs": [],
      "source": [
        "# function adapted from Code Institute walkthrough projects\n",
        "# e.g. https://github.com/Code-Institute-Solutions/WalkthroughProject01\n",
        "def plot_mean_variability_per_labels(X, y, figsize=(12, 5), save_image=False):\n",
        "    \"\"\"\n",
        "    The pseudo-code for the function is:\n",
        "    * Loop over all labels\n",
        "    * Subset an array for a given label\n",
        "    * Calculate the mean and standard deviation\n",
        "    * Create a figure displaying the mean and variability of images\n",
        "    * Save the image\n",
        "    \"\"\"\n",
        "\n",
        "    for label_to_display in np.unique(y):\n",
        "        sns.set_style(\"white\")\n",
        "\n",
        "        y = y.reshape(-1, 1, 1)\n",
        "        boolean_mask = np.any(y == label_to_display, axis=1).reshape(-1)\n",
        "        arr = X[boolean_mask]\n",
        "\n",
        "        avg_img = np.mean(arr, axis=0)\n",
        "        std_img = np.std(arr, axis=0)\n",
        "        print(f\"==== Label {label_to_display} ====\")\n",
        "        \n",
        "        fig, axes = plt.subplots(nrows=1, ncols=2, figsize=figsize)\n",
        "        axes[0].set_title(f'Average image for label \"{label_to_display}\"')\n",
        "        axes[0].imshow(avg_img, cmap=\"gray\")\n",
        "        axes[1].set_title(f'Variability image for label \"{label_to_display}\"')\n",
        "        axes[1].imshow(std_img, cmap=\"gray\")\n",
        "\n",
        "        if save_image:\n",
        "            plt.savefig(\n",
        "                f\"{file_path}/avg_var_{label_to_display}.png\",\n",
        "                bbox_inches=\"tight\",\n",
        "                dpi=150,\n",
        "            )\n",
        "        else:\n",
        "            plt.tight_layout()\n",
        "            plt.show()\n",
        "            print(\"\\n\")"
      ]
    },
    {
      "cell_type": "markdown",
      "metadata": {},
      "source": [
        "Plot the means and standard deviations of the image sets for the 200 images loaded above"
      ]
    },
    {
      "cell_type": "code",
      "execution_count": null,
      "metadata": {},
      "outputs": [],
      "source": [
        "plot_mean_variability_per_labels(X=images_arr, y=labels_arr, figsize=(12, 5))"
      ]
    },
    {
      "cell_type": "markdown",
      "metadata": {},
      "source": [
        "After checking that the images look good, save to the `outputs` folder"
      ]
    },
    {
      "cell_type": "code",
      "execution_count": null,
      "metadata": {},
      "outputs": [],
      "source": [
        "plot_mean_variability_per_labels(X=images_arr, y=labels_arr, figsize=(12, 5), save_image=True)"
      ]
    },
    {
      "cell_type": "markdown",
      "metadata": {},
      "source": [
        "### Plot difference between average images"
      ]
    },
    {
      "cell_type": "code",
      "execution_count": null,
      "metadata": {},
      "outputs": [],
      "source": [
        "def subset_image_label(X, y, label_to_display):\n",
        "    y = y.reshape(-1, 1, 1)\n",
        "    boolean_mask = np.any(y == label_to_display, axis=1).reshape(-1)\n",
        "    df = X[boolean_mask]\n",
        "    return df\n",
        "\n",
        "\n",
        "# function taken from Code Institute walkthrough projects\n",
        "# e.g. https://github.com/Code-Institute-Solutions/WalkthroughProject01\n",
        "def diff_bet_avg_image_labels_data_as_array(\n",
        "    X, y, label_1, label_2, figsize=(20, 5), save_image=False\n",
        "):\n",
        "    \"\"\"\n",
        "    Checks if the labels exist in the set of unique labels\n",
        "    Calculates the mean and difference for label1 and label2\n",
        "    Plots a chart and saves it if save_image=True\n",
        "    \"\"\"\n",
        "    sns.set_style(\"white\")\n",
        "\n",
        "    if (label_1 not in np.unique(y)) or (label_2 not in np.unique(y)):\n",
        "        print(f\"Either label {label} or label {label_2}, are not in {np.unique(y)} \")\n",
        "        return\n",
        "\n",
        "    # calculate mean from label1\n",
        "    images_label = subset_image_label(X, y, label_1)\n",
        "    label1_avg = np.mean(images_label, axis=0)\n",
        "\n",
        "    # calculate mean from label2\n",
        "    images_label = subset_image_label(X, y, label_2)\n",
        "    label2_avg = np.mean(images_label, axis=0)\n",
        "\n",
        "    # calculate difference and plot difference, avg label1 and avg label2\n",
        "    difference_mean = label1_avg - label2_avg\n",
        "    fig, axes = plt.subplots(nrows=1, ncols=3, figsize=figsize)\n",
        "    axes[0].imshow(label1_avg, cmap=\"gray\")\n",
        "    axes[0].set_title(f\"Average {label_1}\")\n",
        "    axes[1].imshow(label2_avg, cmap=\"gray\")\n",
        "    axes[1].set_title(f\"Average {label_2}\")\n",
        "    axes[2].imshow(difference_mean, cmap=\"gray\")\n",
        "    axes[2].set_title(f\"Difference image: Avg {label_1} & {label_2}\")\n",
        "    if save_image:\n",
        "        plt.savefig(f\"{file_path}/avg_diff.png\", bbox_inches=\"tight\", dpi=150)\n",
        "    else:\n",
        "        plt.tight_layout()\n",
        "        plt.show()"
      ]
    },
    {
      "cell_type": "markdown",
      "metadata": {},
      "source": [
        "Plot the difference between `powdery_mildew` average and `healthy` average"
      ]
    },
    {
      "cell_type": "code",
      "execution_count": null,
      "metadata": {},
      "outputs": [],
      "source": [
        "difference = diff_bet_avg_image_labels_data_as_array(\n",
        "    X=images_arr,\n",
        "    y=labels_arr,\n",
        "    label_1=\"powdery_mildew\",\n",
        "    label_2=\"healthy\",\n",
        "    figsize=(12, 10),\n",
        ")"
      ]
    },
    {
      "cell_type": "markdown",
      "metadata": {},
      "source": [
        "Plot the difference in the opposite direction (`healthy` - `powdery_mildew`) "
      ]
    },
    {
      "cell_type": "code",
      "execution_count": null,
      "metadata": {},
      "outputs": [],
      "source": [
        "difference = diff_bet_avg_image_labels_data_as_array(\n",
        "    X=images_arr,\n",
        "    y=labels_arr,\n",
        "    label_1=\"healthy\",\n",
        "    label_2=\"powdery_mildew\",\n",
        "    figsize=(12, 10),\n",
        ")"
      ]
    },
    {
      "cell_type": "markdown",
      "metadata": {},
      "source": [
        "Nothing can be seen in the first difference plot - this is likely because because the `healthy` average image appears lighter overall, which means substracting it from the `powdery_mildew` average results in mostly negative values. These can't be plotted and are thus clipped to 0, meaning the plot only displays black.\n",
        "\n",
        "Subtracting the other ways around also does not reveal much information about the average trends, however some difference can be seen in the outlines of the leaves. Therefore this version of the plot will be saved."
      ]
    },
    {
      "cell_type": "code",
      "execution_count": null,
      "metadata": {},
      "outputs": [],
      "source": [
        "difference = diff_bet_avg_image_labels_data_as_array(\n",
        "    X=images_arr,\n",
        "    y=labels_arr,\n",
        "    label_1=\"healthy\",\n",
        "    label_2=\"powdery_mildew\",\n",
        "    figsize=(12, 10),\n",
        "    save_image=True\n",
        ")"
      ]
    },
    {
      "cell_type": "markdown",
      "metadata": {},
      "source": [
        "---"
      ]
    },
    {
      "cell_type": "markdown",
      "metadata": {},
      "source": [
        "## Investigate variability within each image"
      ]
    },
    {
      "cell_type": "markdown",
      "metadata": {},
      "source": [
        "Since leaves with powdery mildew present with white spots on their surfaces, it is hypothesized that images of these leaves will have greater variability within their pixels than images of healthy leaves. This is investigated here."
      ]
    },
    {
      "cell_type": "markdown",
      "metadata": {},
      "source": [
        "### Variability in grayscale-converted images"
      ]
    },
    {
      "cell_type": "markdown",
      "metadata": {},
      "source": [
        "Convert images to grayscale to reduce dimensions to one value for each pixel"
      ]
    },
    {
      "cell_type": "code",
      "execution_count": null,
      "metadata": {},
      "outputs": [],
      "source": [
        "images_arr.shape  # check initial shape - should be (200, 256, 256, 3)"
      ]
    },
    {
      "cell_type": "markdown",
      "metadata": {},
      "source": [
        "*Note: the coefficients used for the grayscale conversion (`[0.2125, 0.7154, 0.0721]`) are taken from the `scikit-image` `color` library documentation.*"
      ]
    },
    {
      "cell_type": "code",
      "execution_count": null,
      "metadata": {},
      "outputs": [],
      "source": [
        "# more efficient to first build Python list then convert to np array\n",
        "images_gray_list = []\n",
        "for img in images_arr:\n",
        "    images_gray_list.append(np.dot(img[..., :], [0.2125, 0.7154, 0.0721]))\n",
        "\n",
        "images_gray_arr = np.array(images_gray_list)\n",
        "images_gray_arr.shape  # check new shape - should be (200, 256, 256)"
      ]
    },
    {
      "cell_type": "code",
      "execution_count": null,
      "metadata": {},
      "outputs": [],
      "source": [
        "# check first image to confirm grayscale conversion worked as expected\n",
        "plt.imshow(images_gray_arr[0], cmap=\"gray\")\n",
        "plt.show()"
      ]
    },
    {
      "cell_type": "markdown",
      "metadata": {},
      "source": [
        "For each label, display the distribution of variability within each image and the average variability across images"
      ]
    },
    {
      "cell_type": "code",
      "execution_count": null,
      "metadata": {},
      "outputs": [],
      "source": [
        "def plot_image_pixel_distribution_per_label(X, y, figsize=(12, 5), save_image=False):\n",
        "    \"\"\"\n",
        "    Function pseudo-logic:\n",
        "    - subset the images from each label\n",
        "    - flatten each image to get an array of all pixels (3d -> 2d arr)\n",
        "    - calculate the standard deviation of the pixels in each image (2d -> 1d arr)\n",
        "    - output the average standard deviation of all images\n",
        "    - display boxplot and histogram of the standard deviations\n",
        "    \"\"\"\n",
        "    for label_to_display in np.unique(y):\n",
        "        sns.set_style(\"white\")\n",
        "\n",
        "        arr = subset_label(label_to_display, X, y)\n",
        "\n",
        "        # flatten each image array\n",
        "        arr = arr.reshape(arr.shape[0], -1)\n",
        "\n",
        "        # calculate pixel value variability for each image\n",
        "        std_arr = np.std(arr, axis=1)\n",
        "\n",
        "        print(f\"==== Label {label_to_display} ====\")\n",
        "\n",
        "        print(\"std_arr shape:\", std_arr.shape)  # should be (100,) - 100 images\n",
        "        print(\"Average variability:\", np.mean(std_arr))\n",
        "\n",
        "        fig, (ax_box, ax_hist) = plt.subplots(\n",
        "            2, sharex=True, gridspec_kw={\"height_ratios\": (0.15, 0.85)}\n",
        "        )\n",
        "\n",
        "        sns.boxplot(x=std_arr, ax=ax_box)\n",
        "        sns.histplot(x=std_arr, kde=True, ax=ax_hist)\n",
        "\n",
        "        if save_image:\n",
        "            plt.savefig(\n",
        "                f\"{file_path}/grayscale_pixel_variability_{label_to_display}.png\",\n",
        "                bbox_inches=\"tight\",\n",
        "                dpi=150,\n",
        "            )\n",
        "        else:\n",
        "            plt.tight_layout()\n",
        "            plt.show()"
      ]
    },
    {
      "cell_type": "code",
      "execution_count": null,
      "metadata": {},
      "outputs": [],
      "source": [
        "plot_image_pixel_distribution_per_label(images_gray_arr, labels_arr)"
      ]
    },
    {
      "cell_type": "markdown",
      "metadata": {},
      "source": [
        "**Discussion**:\n",
        "\n",
        "* Contrary to the hypothesized expectation, the healthy leaf images have a slightly higher variability in their pixel values than the powdery mildew leaves.\n",
        "* In case this is a result of the grayscale conversion method used here, the analysis will be repeated on the original sample of images before color conversion, and the variability distribution within each color channel will be investigated."
      ]
    },
    {
      "cell_type": "markdown",
      "metadata": {},
      "source": [
        "### Variability per RGB channel"
      ]
    },
    {
      "cell_type": "markdown",
      "metadata": {},
      "source": [
        "For each label, display the distribution of variability within each image per RBG channel and the average variability per RGB channel across images"
      ]
    },
    {
      "cell_type": "code",
      "execution_count": null,
      "metadata": {},
      "outputs": [],
      "source": [
        "def plot_image_pixel_distribution_per_rgb_per_label(X, y, figsize=(12, 5), save_image=False, save_name=\"rgb_pixel_var\"):\n",
        "    for label_to_display in np.unique(y):\n",
        "        sns.set_style(\"white\")\n",
        "\n",
        "        arr = subset_label(label_to_display, X, y)\n",
        "\n",
        "        # flatten each image array\n",
        "        arr = arr.reshape(arr.shape[0], -1, arr.shape[3])\n",
        "\n",
        "        std_arr = np.std(arr, axis=1)\n",
        "\n",
        "        print(f\"==== Label {label_to_display} ====\")\n",
        "\n",
        "        print(\"std_arr shape\", std_arr.shape)  # should be (100, 3) - 100 images, 3 channels\n",
        "        \n",
        "        print(\"Red avg std:\", np.mean(std_arr[:, 0]))\n",
        "        print(\"Green avg std:\", np.mean(std_arr[:, 1]))\n",
        "        print(\"Blue avg std:\", np.mean(std_arr[:, 2]))\n",
        "\n",
        "        sns.histplot(std_arr, kde=True, palette=[\"red\", \"green\", \"blue\"], legend=False)\n",
        "        plt.title(f\"Pixel variability distributions for label {label_to_display}\")\n",
        "        plt.xlabel(\"Variability of pixel values per RGB channel per image\")\n",
        "\n",
        "        if save_image:\n",
        "            plt.savefig(\n",
        "                f\"{file_path}/{save_name}_{label_to_display}.png\",\n",
        "                bbox_inches=\"tight\",\n",
        "                dpi=150,\n",
        "            )\n",
        "            plt.clf()\n",
        "        else:\n",
        "            plt.tight_layout()\n",
        "            plt.show()"
      ]
    },
    {
      "cell_type": "code",
      "execution_count": null,
      "metadata": {},
      "outputs": [],
      "source": [
        "plot_image_pixel_distribution_per_rgb_per_label(images_arr, labels_arr)"
      ]
    },
    {
      "cell_type": "code",
      "execution_count": null,
      "metadata": {},
      "outputs": [],
      "source": [
        "import pandas as pd\n",
        "\n",
        "def create_table_image_pixel_distribution_per_rgb_per_label(X, y):\n",
        "    rgb_variability_df = pd.DataFrame(index=[\"red\", \"green\", \"blue\"])\n",
        "\n",
        "    for label_to_display in np.unique(y):\n",
        "        arr = subset_label(label_to_display, X, y)\n",
        "\n",
        "        # flatten each image array\n",
        "        arr = arr.reshape(arr.shape[0], -1, arr.shape[3])\n",
        "\n",
        "        std_arr = np.std(arr, axis=1)\n",
        "\n",
        "        rgb_stds = []\n",
        "\n",
        "        for i in range(3):\n",
        "            rgb_stds.append(np.mean(std_arr[:, i]))\n",
        "        \n",
        "        rgb_variability_df[label_to_display] = rgb_stds\n",
        "    \n",
        "    return rgb_variability_df"
      ]
    },
    {
      "cell_type": "code",
      "execution_count": null,
      "metadata": {},
      "outputs": [],
      "source": [
        "rgb_variability_df = create_table_image_pixel_distribution_per_rgb_per_label(images_arr, labels_arr)\n",
        "rgb_variability_df"
      ]
    },
    {
      "cell_type": "markdown",
      "metadata": {},
      "source": [
        "Save plots and average values"
      ]
    },
    {
      "cell_type": "code",
      "execution_count": null,
      "metadata": {},
      "outputs": [],
      "source": [
        "plot_image_pixel_distribution_per_rgb_per_label(images_arr, labels_arr, save_image=True)"
      ]
    },
    {
      "cell_type": "code",
      "execution_count": null,
      "metadata": {},
      "outputs": [],
      "source": [
        "import joblib\n",
        "\n",
        "joblib.dump(value=rgb_variability_df, filename=f\"{file_path}/rgb_pixel_var_avgs.pkl\")"
      ]
    },
    {
      "cell_type": "markdown",
      "metadata": {},
      "source": [
        "**Discussion**:\n",
        "\n",
        "* The healthy leaf images still display higher variability in each channel than the powdery mildew leaves, again contrary to the hypothesis.\n",
        "\n",
        "* It is also notable that in the healthy leaf images, there is greater overall variability in the red and blue channels than in green, whereas in the powdery mildew images the variability distributions are more similar.\n",
        "\n",
        "* In the image montage section above it was noted that there seem to be some qualitative differences between the healthy and powdery mildew leaf images in this dataset, in particular in terms of the backdrops of the images.\n",
        "\n",
        "* To investigate the possibility of this affecting the current analysis, we will try subsetting the central third of each image and running this same analysis on those pixels. This is based on:\n",
        "    - The observation that in almost all of the images, the leaves take up the entire center of the image, and thus the central third will likely contain only leaf with no background\n",
        "    - The assumption that powdery mildew is distributed equally across the entire surface of the leaf and thus excluding the leaf edges will not limit the ability to ascertain powdery mildew presence"
      ]
    },
    {
      "cell_type": "markdown",
      "metadata": {},
      "source": [
        "### Variability in central third of each image"
      ]
    },
    {
      "cell_type": "markdown",
      "metadata": {},
      "source": [
        "The central 80 x 80 pixels will be subset from each image, which is just under a third of each image (all images are 256 x 256 pixels)."
      ]
    },
    {
      "cell_type": "code",
      "execution_count": null,
      "metadata": {},
      "outputs": [],
      "source": [
        "images_arr.shape"
      ]
    },
    {
      "cell_type": "code",
      "execution_count": null,
      "metadata": {},
      "outputs": [],
      "source": [
        "images_central_third_arr = images_arr[:, 88:168, 88:168, :]\n",
        "images_central_third_arr.shape"
      ]
    },
    {
      "cell_type": "markdown",
      "metadata": {},
      "source": [
        "Display variability in each RGB channel as above."
      ]
    },
    {
      "cell_type": "code",
      "execution_count": null,
      "metadata": {},
      "outputs": [],
      "source": [
        "plot_image_pixel_distribution_per_rgb_per_label(images_central_third_arr, labels_arr)"
      ]
    },
    {
      "cell_type": "code",
      "execution_count": null,
      "metadata": {},
      "outputs": [],
      "source": [
        "rgb_variability_df = create_table_image_pixel_distribution_per_rgb_per_label(images_central_third_arr, labels_arr)\n",
        "rgb_variability_df"
      ]
    },
    {
      "cell_type": "markdown",
      "metadata": {},
      "source": [
        "Save plots and average values"
      ]
    },
    {
      "cell_type": "code",
      "execution_count": null,
      "metadata": {},
      "outputs": [],
      "source": [
        "plot_image_pixel_distribution_per_rgb_per_label(images_central_third_arr, labels_arr, save_image=True, save_name=\"rgb_pixel_var_center\")"
      ]
    },
    {
      "cell_type": "code",
      "execution_count": null,
      "metadata": {},
      "outputs": [],
      "source": [
        "joblib.dump(value=rgb_variability_df, filename=f\"{file_path}/rgb_pixel_var_avgs_center.pkl\")"
      ]
    },
    {
      "cell_type": "markdown",
      "metadata": {},
      "source": [
        "**Discussion**:\n",
        "\n",
        "* In this analysis, the powdery mildew leaf images do have a higher variability (in each RGB channel) than the healthy leaf images, as predicted in the initial hypothesis.\n",
        "* It is worth noting that here, the variability distributions look similar across each channel, as opposed to the previous analysis, where healthy leaf images had different variability distributions in their green versus blue and red channels.\n",
        "* The results indicate that the hypothesis (higher variability in powdery mildew leaf images) **may be correct**. However, the differences in variability are relatively small. Furthermore, subsetting the center of the image could have affected the analysis.\n",
        "* The difference between the results for the entire images and the centers of the images add a further indication that there are qualitative differences between the healthy and powdery mildew leaf images, particularly in terms of the background. This could be a factor that could affect how the model makes predictions, and potentially lead to lower performance on live data where leaf images are all taken against the same background (or, for that matter, a background with a completely different color). This could represent a potential limitation of this project."
      ]
    },
    {
      "cell_type": "markdown",
      "metadata": {},
      "source": [
        "---"
      ]
    },
    {
      "cell_type": "markdown",
      "metadata": {
        "id": "ltNetd085qHf"
      },
      "source": [
        "## Conlusions and next steps"
      ]
    },
    {
      "cell_type": "markdown",
      "metadata": {},
      "source": [
        "Business requirement 1 has been answered. Plots of average and variability for each target label have been produced along with a plot displaying the difference between the two average images. The code to generate a random image montage for each label has also been written; this will be executed in the Streamlit dashboard.\n",
        "\n",
        "Next steps - define, train and evaluate a model to answer business requirement 2"
      ]
    },
    {
      "cell_type": "markdown",
      "metadata": {},
      "source": [
        "---"
      ]
    }
  ],
  "metadata": {
    "accelerator": "GPU",
    "colab": {
      "name": "Data Practitioner Jupyter Notebook.ipynb",
      "provenance": [],
      "toc_visible": true
    },
    "interpreter": {
      "hash": "8b8334dab9339717f727a1deaf837b322d7a41c20d15cc86be99a8e69ceec8ce"
    },
    "kernelspec": {
      "display_name": "Python 3.8.12 64-bit ('3.8.12': pyenv)",
      "name": "python3"
    },
    "language_info": {
      "codemirror_mode": {
        "name": "ipython",
        "version": 3
      },
      "file_extension": ".py",
      "mimetype": "text/x-python",
      "name": "python",
      "nbconvert_exporter": "python",
      "pygments_lexer": "ipython3",
      "version": "3.8.12"
    },
    "orig_nbformat": 2
  },
  "nbformat": 4,
  "nbformat_minor": 2
}
